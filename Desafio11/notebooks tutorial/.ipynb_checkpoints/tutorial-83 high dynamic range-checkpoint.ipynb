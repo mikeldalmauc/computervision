{
 "cells": [
  {
   "cell_type": "code",
   "execution_count": 1,
   "metadata": {
    "collapsed": true
   },
   "outputs": [],
   "source": [
    "# High Dynamic Range (HDR) \n",
    "# https://docs.opencv.org/3.1.0/d2/df0/tutorial_py_hdr.html"
   ]
  },
  {
   "cell_type": "code",
   "execution_count": 2,
   "metadata": {
    "collapsed": true
   },
   "outputs": [],
   "source": [
    "import cv2\n",
    "import numpy as np\n",
    "from matplotlib import pyplot as plt"
   ]
  },
  {
   "cell_type": "code",
   "execution_count": 3,
   "metadata": {},
   "outputs": [
    {
     "name": "stdout",
     "output_type": "stream",
     "text": [
      "C:\\Users\\Manuel\\Dropbox\\docencia vision 2018\\desafio 10\\data\n"
     ]
    }
   ],
   "source": [
    "cd ../data"
   ]
  },
  {
   "cell_type": "code",
   "execution_count": 4,
   "metadata": {
    "collapsed": true
   },
   "outputs": [],
   "source": [
    "# Loading exposure images into a list\n",
    "img_fn = [\"StLouisArchMultExpImg0.jpg\", \"StLouisArchMultExpImg1.jpg\", \"StLouisArchMultExpImg2.jpg\", \"StLouisArchMultExpImg3.jpg\"]\n",
    "img_list = [cv2.imread(fn) for fn in img_fn]\n",
    "exposure_times = np.array([15.0, 2.5, 0.25, 0.0333], dtype=np.float32)"
   ]
  },
  {
   "cell_type": "code",
   "execution_count": 5,
   "metadata": {
    "collapsed": true
   },
   "outputs": [],
   "source": [
    "# Merge exposures to HDR image\n",
    "merge_debvec = cv2.createMergeDebevec()\n",
    "hdr_debvec = merge_debvec.process(img_list, times=exposure_times.copy())\n",
    "merge_robertson = cv2.createMergeRobertson()\n",
    "hdr_robertson = merge_robertson.process(img_list, times=exposure_times.copy())"
   ]
  },
  {
   "cell_type": "code",
   "execution_count": 6,
   "metadata": {
    "collapsed": true
   },
   "outputs": [],
   "source": [
    " # Tonemap HDR image\n",
    "tonemap1 = cv2.createTonemapDurand(gamma=2.2)\n",
    "res_debvec = tonemap1.process(hdr_debvec.copy())\n",
    "tonemap2 = cv2.createTonemapDurand(gamma=1.3)\n",
    "res_robertson = tonemap2.process(hdr_robertson.copy())"
   ]
  },
  {
   "cell_type": "code",
   "execution_count": 7,
   "metadata": {
    "collapsed": true
   },
   "outputs": [],
   "source": [
    "# Exposure fusion using Mertens\n",
    "merge_mertens = cv2.createMergeMertens()\n",
    "res_mertens = merge_mertens.process(img_list)"
   ]
  },
  {
   "cell_type": "code",
   "execution_count": 8,
   "metadata": {},
   "outputs": [
    {
     "data": {
      "text/plain": [
       "True"
      ]
     },
     "execution_count": 8,
     "metadata": {},
     "output_type": "execute_result"
    }
   ],
   "source": [
    "# Convert datatype to 8-bit and save\n",
    "res_debvec_8bit = np.clip(res_debvec*255, 0, 255).astype('uint8')\n",
    "res_robertson_8bit = np.clip(res_robertson*255, 0, 255).astype('uint8')\n",
    "res_mertens_8bit = np.clip(res_mertens*255, 0, 255).astype('uint8')\n",
    "\n",
    "cv2.imwrite(\"output_ldr_debvec.jpg\", res_debvec_8bit)\n",
    "cv2.imwrite(\"output_ldr_robertson.jpg\", res_robertson_8bit)\n",
    "cv2.imwrite(\"output_fusion_mertens.jpg\", res_mertens_8bit)"
   ]
  },
  {
   "cell_type": "code",
   "execution_count": 9,
   "metadata": {
    "collapsed": true
   },
   "outputs": [],
   "source": [
    "# Estimating Camera Response Function "
   ]
  },
  {
   "cell_type": "code",
   "execution_count": 10,
   "metadata": {
    "collapsed": true
   },
   "outputs": [],
   "source": [
    "# Estimate camera response function (CRF)\n",
    "cal_debvec = cv2.createCalibrateDebevec()\n",
    "crf_debvec = cal_debvec.process(img_list, times=exposure_times)\n",
    "hdr_debvec = merge_debvec.process(img_list, times=exposure_times.copy(), response=crf_debvec.copy())\n",
    "cal_robertson = cv2.createCalibrateRobertson()\n",
    "crf_robertson = cal_robertson.process(img_list, times=exposure_times)\n",
    "hdr_robertson = merge_robertson.process(img_list, times=exposure_times.copy(), response=crf_robertson.copy())"
   ]
  },
  {
   "cell_type": "code",
   "execution_count": 11,
   "metadata": {},
   "outputs": [
    {
     "data": {
      "text/plain": [
       "(2112, 2816, 3)"
      ]
     },
     "execution_count": 11,
     "metadata": {},
     "output_type": "execute_result"
    }
   ],
   "source": [
    "hdr_debvec.shape"
   ]
  },
  {
   "cell_type": "code",
   "execution_count": null,
   "metadata": {
    "collapsed": true
   },
   "outputs": [],
   "source": []
  }
 ],
 "metadata": {
  "kernelspec": {
   "display_name": "Python 3",
   "language": "python",
   "name": "python3"
  },
  "language_info": {
   "codemirror_mode": {
    "name": "ipython",
    "version": 3
   },
   "file_extension": ".py",
   "mimetype": "text/x-python",
   "name": "python",
   "nbconvert_exporter": "python",
   "pygments_lexer": "ipython3",
   "version": "3.6.3"
  }
 },
 "nbformat": 4,
 "nbformat_minor": 2
}
