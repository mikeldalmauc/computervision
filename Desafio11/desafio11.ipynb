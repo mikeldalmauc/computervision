{
 "cells": [
  {
   "cell_type": "code",
   "execution_count": 1,
   "metadata": {},
   "outputs": [],
   "source": [
    "import cv2\n",
    "import numpy as np\n",
    "import time\n",
    "from matplotlib import pyplot as plt"
   ]
  },
  {
   "cell_type": "code",
   "execution_count": 2,
   "metadata": {},
   "outputs": [],
   "source": [
    "face_cascade = cv2.CascadeClassifier('haarcascade_frontalface_default.xml')\n",
    "eye_cascade = cv2.CascadeClassifier('haarcascade_eye.xml')\n",
    "kernel = np.ones((2,2),np.uint8)"
   ]
  },
  {
   "cell_type": "code",
   "execution_count": 3,
   "metadata": {},
   "outputs": [],
   "source": [
    "c = cv2.VideoCapture(0)\n",
    "_,f = c.read()\n",
    "out = cv2.VideoWriter('result.avi', cv2.VideoWriter_fourcc(*'XVID'), 20.0, (f.shape[1],f.shape[0]),1)"
   ]
  },
  {
   "cell_type": "code",
   "execution_count": 4,
   "metadata": {},
   "outputs": [],
   "source": [
    "radios = []\n",
    "tiempo = []\n",
    "start = time.time()"
   ]
  },
  {
   "cell_type": "code",
   "execution_count": 5,
   "metadata": {},
   "outputs": [],
   "source": [
    "# Procesamos cada frame del vídeo\n",
    "while(c.isOpened()):\n",
    "    ret, frame = c.read()\n",
    "    if ret==True:\n",
    "        gray = cv2.cvtColor(frame, cv2.COLOR_BGR2GRAY)\n",
    "\n",
    "        # Para cada cara hallada, extraer la region de interés\n",
    "        faces = face_cascade.detectMultiScale(gray, 1.3, 5)\n",
    "        for (x,y,w,h) in faces:\n",
    "            roi_gray = gray[y:y+h, x:x+w]\n",
    "            roi_color = frame[y:y+h, x:x+w]\n",
    "\n",
    "            # Para cada ojo, extraer la región de interés\n",
    "            eyes = eye_cascade.detectMultiScale(roi_gray)\n",
    "            for (ex,ey,ew,eh) in eyes:\n",
    "                roi_eyes = roi_color[ey:ey+eh, ex:ex+ew]\n",
    "                roi_eyes_gray = roi_gray[ey:ey+eh, ex:ex+ew]\n",
    "\n",
    "                # aplicar una transformación morfológica y la transformada de Hough Circular\n",
    "                roi_eyes_gray  = cv2.morphologyEx(roi_eyes_gray, cv2.MORPH_ERODE, kernel)\n",
    "                circles = cv2.HoughCircles(roi_eyes_gray,cv2.HOUGH_GRADIENT,1,30,param1=100,param2=20,minRadius=5,maxRadius=50)\n",
    "\n",
    "                # Dibujar cada círculo hallado\n",
    "                if circles is not None:\n",
    "                    circles = np.uint16(np.around(circles))\n",
    "                    for i in circles[0,:]:\n",
    "                        cv2.circle(roi_eyes,(i[0],i[1]),i[2],(0,255,0),1)\n",
    "                    radios.append(i[2])\n",
    "                else:\n",
    "                    radios.append(-1)\n",
    "                \n",
    "                # Tomar el tiempo \n",
    "                tiempo.append(time.time() - start)        \n",
    "        \n",
    "        # escribir el frame\n",
    "        cv2.imshow('frame',frame)\n",
    "        try:\n",
    "            out.write(frame.astype('uint8'))\n",
    "        except:\n",
    "            print(\"Error: video frame did not write\")\n",
    "        \n",
    "        if 0xFF & cv2.waitKey(5) == 27:\n",
    "            break\n",
    "    else:\n",
    "        break"
   ]
  },
  {
   "cell_type": "code",
   "execution_count": 6,
   "metadata": {},
   "outputs": [],
   "source": [
    "c.release()\n",
    "out.release()\n",
    "cv2.destroyAllWindows()"
   ]
  },
  {
   "cell_type": "code",
   "execution_count": 7,
   "metadata": {},
   "outputs": [
    {
     "data": {
      "text/plain": [
       "[<matplotlib.lines.Line2D at 0x1aeb98d1be0>]"
      ]
     },
     "execution_count": 7,
     "metadata": {},
     "output_type": "execute_result"
    },
    {
     "data": {
      "image/png": "[encoded data removed]",
      "text/plain": [
       "<Figure size 432x288 with 1 Axes>"
      ]
     },
     "metadata": {
      "needs_background": "light"
     },
     "output_type": "display_data"
    }
   ],
   "source": [
    "plt.plot(tiempo, radios, 'go')"
   ]
  },
  {
   "cell_type": "code",
   "execution_count": null,
   "metadata": {},
   "outputs": [],
   "source": [
    "\n"
   ]
  },
  {
   "cell_type": "code",
   "execution_count": null,
   "metadata": {},
   "outputs": [],
   "source": []
  }
 ],
 "metadata": {
  "kernelspec": {
   "display_name": "Python 3",
   "language": "python",
   "name": "python3"
  },
  "language_info": {
   "codemirror_mode": {
    "name": "ipython",
    "version": 3
   },
   "file_extension": ".py",
   "mimetype": "text/x-python",
   "name": "python",
   "nbconvert_exporter": "python",
   "pygments_lexer": "ipython3",
   "version": "3.7.1"
  }
 },
 "nbformat": 4,
 "nbformat_minor": 2
}
